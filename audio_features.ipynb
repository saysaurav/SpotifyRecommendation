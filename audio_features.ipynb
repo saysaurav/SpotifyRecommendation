{
  "nbformat": 4,
  "nbformat_minor": 0,
  "metadata": {
    "colab": {
      "provenance": [],
      "mount_file_id": "1Qql_-wbDN83hZwX6DsI7O6ONypkOkQQl",
      "authorship_tag": "ABX9TyM2LK4ZYSsPypi+vUbc4Oi9",
      "include_colab_link": true
    },
    "kernelspec": {
      "name": "python3",
      "display_name": "Python 3"
    },
    "language_info": {
      "name": "python"
    }
  },
  "cells": [
    {
      "cell_type": "markdown",
      "metadata": {
        "id": "view-in-github",
        "colab_type": "text"
      },
      "source": [
        "<a href=\"https://colab.research.google.com/github/saysaurav/SpotifyRecommendation/blob/main/audio_features.ipynb\" target=\"_parent\"><img src=\"https://colab.research.google.com/assets/colab-badge.svg\" alt=\"Open In Colab\"/></a>"
      ]
    },
    {
      "cell_type": "code",
      "execution_count": 1,
      "metadata": {
        "colab": {
          "base_uri": "https://localhost:8080/"
        },
        "id": "jt2quPptcqXR",
        "outputId": "efc5536c-5fdb-4343-ca53-2acf0cf1d10f"
      },
      "outputs": [
        {
          "output_type": "stream",
          "name": "stdout",
          "text": [
            "Looking in indexes: https://pypi.org/simple, https://us-python.pkg.dev/colab-wheels/public/simple/\n",
            "Requirement already satisfied: spotipy in /usr/local/lib/python3.8/dist-packages (2.22.0)\n",
            "Requirement already satisfied: requests>=2.25.0 in /usr/local/lib/python3.8/dist-packages (from spotipy) (2.25.1)\n",
            "Requirement already satisfied: urllib3>=1.26.0 in /usr/local/lib/python3.8/dist-packages (from spotipy) (1.26.13)\n",
            "Requirement already satisfied: six>=1.15.0 in /usr/local/lib/python3.8/dist-packages (from spotipy) (1.15.0)\n",
            "Requirement already satisfied: redis>=3.5.3 in /usr/local/lib/python3.8/dist-packages (from spotipy) (4.4.0)\n",
            "Requirement already satisfied: async-timeout>=4.0.2 in /usr/local/lib/python3.8/dist-packages (from redis>=3.5.3->spotipy) (4.0.2)\n",
            "Requirement already satisfied: idna<3,>=2.5 in /usr/local/lib/python3.8/dist-packages (from requests>=2.25.0->spotipy) (2.10)\n",
            "Requirement already satisfied: certifi>=2017.4.17 in /usr/local/lib/python3.8/dist-packages (from requests>=2.25.0->spotipy) (2022.12.7)\n",
            "Requirement already satisfied: chardet<5,>=3.0.2 in /usr/local/lib/python3.8/dist-packages (from requests>=2.25.0->spotipy) (4.0.0)\n"
          ]
        }
      ],
      "source": [
        "pip install spotipy"
      ]
    },
    {
      "cell_type": "code",
      "source": [
        "import spotipy\n",
        "import spotipy.util as util\n",
        "\n",
        "# Replace these with your own client ID and secret\n",
        "client_id = \"1b94ec80072b463f912323db511ca6a1\"\n",
        "client_secret = \"3aca38b5a19a40b6a9527ef56eb44491\"\n",
        "\n",
        "# Replace this with your own Spotify username\n",
        "username = \"31lojvl7lnhxq5xpkr6iqtl6ibsq\"\n",
        "\n",
        "# Get a Spotify API token\n",
        "token = util.prompt_for_user_token(\n",
        "    username,\n",
        "    scope=\"playlist-read-private\",\n",
        "    client_id=client_id,\n",
        "    client_secret=client_secret,\n",
        "    redirect_uri=\"http://localhost:8888/callback\"\n",
        ")\n",
        "\n",
        "# Create a Spotify API client\n",
        "sp = spotipy.Spotify(auth=token)\n",
        "\n",
        "# Replace this with the ID of your playlist\n",
        "playlist_id = \"37i9dQZF1DX5q67ZpWyRrZ\"\n",
        "\n",
        "# Get the tracks in the playlist\n",
        "results = sp.playlist_tracks(playlist_id)\n",
        "tracks = results[\"items\"]\n",
        "\n",
        "# Initialize counters for each audio feature\n",
        "danceability_sum = 0\n",
        "energy_sum = 0\n",
        "key_sum = 0\n",
        "loudness_sum = 0\n",
        "mode_sum = 0\n",
        "speechiness_sum = 0\n",
        "acousticness_sum = 0\n",
        "instrumentalness_sum = 0\n",
        "liveness_sum = 0\n",
        "valence_sum = 0\n",
        "tempo_sum = 0\n",
        "\n",
        "# Iterate over the tracks and sum the values for each audio feature\n",
        "for track in tracks:\n",
        "    features = track[\"track\"][\"audio_features\"]\n",
        "    danceability_sum += features[\"danceability\"]\n",
        "    energy_sum += features[\"energy\"]\n",
        "    key_sum += features[\"key\"]\n",
        "    loudness_sum += features[\"loudness\"]\n",
        "    mode_sum += features[\"mode\"]\n",
        "    speechiness_sum += features[\"speechiness\"]\n",
        "    acousticness_sum += features[\"acousticness\"]\n",
        "    instrumentalness_sum += features[\"instrumentalness\"]\n",
        "    liveness_sum += features[\"liveness\"]\n",
        "    valence_sum += features[\"valence\"]\n",
        "    tempo_sum += features[\"tempo\"]\n",
        "\n",
        "# Calculate the average values for each audio feature\n",
        "num_tracks = len(tracks)\n",
        "danceability_avg = danceability_sum / num_tracks\n",
        "energy_avg = energy_sum / num_tracks\n",
        "key_avg = key_sum / num_tracks\n",
        "loudness_avg = loudness_sum / num_tracks\n",
        "mode_avg = mode_sum / num_tracks\n",
        "speechiness_avg = speechiness_sum / num_tracks\n",
        "acousticness_avg = acousticness_sum / num_tracks\n",
        "instrumentalness_avg = instrumentalness_sum / num_tracks\n",
        "liveness_avg = liveness_sum / num_tracks\n",
        "valence_avg = valence_sum / num_tracks\n",
        "tempo_avg = tempo_sum / num_tracks\n",
        "\n",
        "# Print the average values\n",
        "print(\"Danceability:\", danceability_avg)\n",
        "print(\"Energy:\", energy_avg)\n",
        "print(\"Key:\", key_avg)\n",
        "print(\"Loudness:\", loudness_avg)\n",
        "print(\"Mode:\", mode_avg)\n",
        "print(\"Speechiness:\", speechiness_avg)\n"
      ],
      "metadata": {
        "id": "9L2Kf2qTdlf4"
      },
      "execution_count": null,
      "outputs": []
    },
    {
      "cell_type": "code",
      "source": [
        "!nc -vzl 8888"
      ],
      "metadata": {
        "id": "ZpZJ1zU1xuXs"
      },
      "execution_count": null,
      "outputs": []
    }
  ]
}