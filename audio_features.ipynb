{
  "nbformat": 4,
  "nbformat_minor": 0,
  "metadata": {
    "colab": {
      "provenance": [],
      "mount_file_id": "1Qql_-wbDN83hZwX6DsI7O6ONypkOkQQl",
      "authorship_tag": "ABX9TyNpXKzH2fGVhEKgCFA8kzeX",
      "include_colab_link": true
    },
    "kernelspec": {
      "name": "python3",
      "display_name": "Python 3"
    },
    "language_info": {
      "name": "python"
    }
  },
  "cells": [
    {
      "cell_type": "markdown",
      "metadata": {
        "id": "view-in-github",
        "colab_type": "text"
      },
      "source": [
        "<a href=\"https://colab.research.google.com/github/saysaurav/SpotifyRecommendation/blob/main/audio_features.ipynb\" target=\"_parent\"><img src=\"https://colab.research.google.com/assets/colab-badge.svg\" alt=\"Open In Colab\"/></a>"
      ]
    },
    {
      "cell_type": "code",
      "execution_count": 1,
      "metadata": {
        "colab": {
          "base_uri": "https://localhost:8080/"
        },
        "id": "jt2quPptcqXR",
        "outputId": "d1355281-5d83-4c09-ab58-df1bf0795bfc"
      },
      "outputs": [
        {
          "output_type": "stream",
          "name": "stdout",
          "text": [
            "Looking in indexes: https://pypi.org/simple, https://us-python.pkg.dev/colab-wheels/public/simple/\n",
            "Collecting spotipy\n",
            "  Downloading spotipy-2.22.0-py3-none-any.whl (28 kB)\n",
            "Collecting urllib3>=1.26.0\n",
            "  Downloading urllib3-1.26.13-py2.py3-none-any.whl (140 kB)\n",
            "\u001b[2K     \u001b[90m━━━━━━━━━━━━━━━━━━━━━━━━━━━━━━━━━━━━━━━\u001b[0m \u001b[32m140.6/140.6 KB\u001b[0m \u001b[31m6.2 MB/s\u001b[0m eta \u001b[36m0:00:00\u001b[0m\n",
            "\u001b[?25hCollecting redis>=3.5.3\n",
            "  Downloading redis-4.4.0-py3-none-any.whl (236 kB)\n",
            "\u001b[2K     \u001b[90m━━━━━━━━━━━━━━━━━━━━━━━━━━━━━━━━━━━━━━\u001b[0m \u001b[32m236.4/236.4 KB\u001b[0m \u001b[31m15.3 MB/s\u001b[0m eta \u001b[36m0:00:00\u001b[0m\n",
            "\u001b[?25hRequirement already satisfied: six>=1.15.0 in /usr/local/lib/python3.8/dist-packages (from spotipy) (1.15.0)\n",
            "Requirement already satisfied: requests>=2.25.0 in /usr/local/lib/python3.8/dist-packages (from spotipy) (2.25.1)\n",
            "Requirement already satisfied: async-timeout>=4.0.2 in /usr/local/lib/python3.8/dist-packages (from redis>=3.5.3->spotipy) (4.0.2)\n",
            "Requirement already satisfied: certifi>=2017.4.17 in /usr/local/lib/python3.8/dist-packages (from requests>=2.25.0->spotipy) (2022.12.7)\n",
            "Requirement already satisfied: chardet<5,>=3.0.2 in /usr/local/lib/python3.8/dist-packages (from requests>=2.25.0->spotipy) (4.0.0)\n",
            "Requirement already satisfied: idna<3,>=2.5 in /usr/local/lib/python3.8/dist-packages (from requests>=2.25.0->spotipy) (2.10)\n",
            "Installing collected packages: urllib3, redis, spotipy\n",
            "  Attempting uninstall: urllib3\n",
            "    Found existing installation: urllib3 1.24.3\n",
            "    Uninstalling urllib3-1.24.3:\n",
            "      Successfully uninstalled urllib3-1.24.3\n",
            "Successfully installed redis-4.4.0 spotipy-2.22.0 urllib3-1.26.13\n"
          ]
        }
      ],
      "source": [
        "pip install spotipy"
      ]
    },
    {
      "cell_type": "code",
      "source": [
        "import spotipy\n",
        "import spotipy.util as util\n",
        "\n",
        "# Replace these with your own client ID and secret\n",
        "client_id = \"1b94ec80072b463f912323db511ca6a1\"\n",
        "client_secret = \"3aca38b5a19a40b6a9527ef56eb44491\"\n",
        "\n",
        "# Replace this with your own Spotify username\n",
        "username = \"31lojvl7lnhxq5xpkr6iqtl6ibsq\"\n",
        "\n",
        "# Get a Spotify API token\n",
        "token = util.prompt_for_user_token(\n",
        "    username,\n",
        "    scope=\"playlist-read-private\",\n",
        "    client_id=client_id,\n",
        "    client_secret=client_secret,\n",
        "    redirect_uri=\"http://localhost:8888/callback\"\n",
        ")\n",
        "\n",
        "# Create a Spotify API client\n",
        "sp = spotipy.Spotify(auth=token)\n",
        "\n",
        "# Replace this with the ID of your playlist\n",
        "playlist_id = \"37i9dQZF1DX5q67ZpWyRrZ\"\n",
        "\n",
        "# Get the tracks in the playlist\n",
        "results = sp.playlist_tracks(playlist_id)\n",
        "tracks = results[\"items\"]\n",
        "\n",
        "# Initialize counters for each audio feature\n",
        "danceability_sum = 0\n",
        "energy_sum = 0\n",
        "key_sum = 0\n",
        "loudness_sum = 0\n",
        "mode_sum = 0\n",
        "speechiness_sum = 0\n",
        "acousticness_sum = 0\n",
        "instrumentalness_sum = 0\n",
        "liveness_sum = 0\n",
        "valence_sum = 0\n",
        "tempo_sum = 0\n",
        "\n",
        "# Iterate over the tracks and sum the values for each audio feature\n",
        "for track in tracks:\n",
        "    features = track[\"track\"][\"audio_features\"]\n",
        "    danceability_sum += features[\"danceability\"]\n",
        "    energy_sum += features[\"energy\"]\n",
        "    key_sum += features[\"key\"]\n",
        "    loudness_sum += features[\"loudness\"]\n",
        "    mode_sum += features[\"mode\"]\n",
        "    speechiness_sum += features[\"speechiness\"]\n",
        "    acousticness_sum += features[\"acousticness\"]\n",
        "    instrumentalness_sum += features[\"instrumentalness\"]\n",
        "    liveness_sum += features[\"liveness\"]\n",
        "    valence_sum += features[\"valence\"]\n",
        "    tempo_sum += features[\"tempo\"]\n",
        "\n",
        "# Calculate the average values for each audio feature\n",
        "num_tracks = len(tracks)\n",
        "danceability_avg = danceability_sum / num_tracks\n",
        "energy_avg = energy_sum / num_tracks\n",
        "key_avg = key_sum / num_tracks\n",
        "loudness_avg = loudness_sum / num_tracks\n",
        "mode_avg = mode_sum / num_tracks\n",
        "speechiness_avg = speechiness_sum / num_tracks\n",
        "acousticness_avg = acousticness_sum / num_tracks\n",
        "instrumentalness_avg = instrumentalness_sum / num_tracks\n",
        "liveness_avg = liveness_sum / num_tracks\n",
        "valence_avg = valence_sum / num_tracks\n",
        "tempo_avg = tempo_sum / num_tracks\n",
        "\n",
        "# Print the average values\n",
        "print(\"Danceability:\", danceability_avg)\n",
        "print(\"Energy:\", energy_avg)\n",
        "print(\"Key:\", key_avg)\n",
        "print(\"Loudness:\", loudness_avg)\n",
        "print(\"Mode:\", mode_avg)\n",
        "print(\"Speechiness:\", speechiness_avg)\n"
      ],
      "metadata": {
        "id": "9L2Kf2qTdlf4"
      },
      "execution_count": null,
      "outputs": []
    },
    {
      "cell_type": "code",
      "source": [
        "#Creating the line graph for visualization purpose\n",
        "\n",
        "#importing necessary module\n",
        "import matplotlib.pyplot as plt\n",
        "\n",
        "# Set the x-axis labels\n",
        "x_labels = [\"Danceability\", \"Energy\", \"Key\", \"Loudness\", \"Mode\", \"Speechiness\"]\n",
        "\n",
        "# Set the y-axis values to the average values calculated earlier\n",
        "y_values = [danceability_avg, energy_avg, key_avg, loudness_avg, mode_avg, speechiness_avg]\n",
        "\n",
        "# Create the line chart\n",
        "plt.plot(x_labels, y_values)\n",
        "\n",
        "# Add a title and axis labels\n",
        "plt.title(\"Average Audio Feature Values\")\n",
        "plt.xlabel(\"Audio Feature\")\n",
        "plt.ylabel(\"Average Value\")\n",
        "\n",
        "# Show the chart\n",
        "plt.show()\n"
      ],
      "metadata": {
        "id": "ZpZJ1zU1xuXs"
      },
      "execution_count": 1,
      "outputs": []
    },
    {
      "cell_type": "code",
      "source": [
        "#Creating heatmap\n",
        "\n",
        "#Importing necessary modules\n",
        "import seaborn as sns\n",
        "import pandas as pd\n",
        "\n",
        "# Create a Pandas DataFrame with the audio feature values for each track\n",
        "df = pd.DataFrame({\n",
        "    \"Danceability\": [track[\"track\"][\"audio_features\"][\"danceability\"] for track in tracks],\n",
        "    \"Energy\": [track[\"track\"][\"audio_features\"][\"energy\"] for track in tracks],\n",
        "    \"Key\": [track[\"track\"][\"audio_features\"][\"key\"] for track in tracks],\n",
        "    \"Loudness\": [track[\"track\"][\"audio_features\"][\"loudness\"] for track in tracks],\n",
        "    \"Mode\": [track[\"track\"][\"audio_features\"][\"mode\"] for track in tracks],\n",
        "    \"Speechiness\": [track[\"track\"][\"audio_features\"][\"speechiness\"] for track in tracks]\n",
        "})\n",
        "\n",
        "# Create the heat map\n",
        "sns.heatmap(df, cmap=\"YlGnBu\")\n",
        "\n",
        "# Add a title\n",
        "plt.title(\"Audio Feature Values for Each Track\")\n",
        "\n",
        "# Show the plot\n",
        "plt.show()\n"
      ],
      "metadata": {
        "id": "E1HtBb3MMscJ"
      },
      "execution_count": 2,
      "outputs": []
    },
    {
      "cell_type": "code",
      "source": [
        "#creating barchart\n",
        "\n",
        "# Set the x-axis labels\n",
        "x_labels = [\"Danceability\", \"Energy\", \"Key\", \"Loudness\", \"Mode\", \"Speechiness\"]\n",
        "\n",
        "# Set the y-axis values to the average values calculated earlier\n",
        "y_values = [danceability_avg, energy_avg, key_avg, loudness_avg, mode_avg, speechiness_avg]\n",
        "\n",
        "# Create the bar chart\n",
        "plt.bar(x_labels, y_values)\n",
        "\n",
        "# Add a title and axis labels\n",
        "plt.title(\"Average Audio Feature Values\")\n",
        "plt.xlabel(\"Audio Feature\")\n",
        "plt.ylabel(\"Average Value\")\n",
        "\n",
        "# Show the chart\n",
        "plt.show()\n"
      ],
      "metadata": {
        "id": "_fs1PH49NQyG"
      },
      "execution_count": 3,
      "outputs": []
    },
    {
      "cell_type": "code",
      "source": [
        "#creating the scatterplot\n",
        "\n",
        "# Set the x-axis and y-axis values to the audio feature values for each track\n",
        "x_values = [track[\"track\"][\"audio_features\"][\"danceability\"] for track in tracks]\n",
        "y_values = [track[\"track\"][\"audio_features\"][\"energy\"] for track in tracks]\n",
        "\n",
        "# Create the scatter plot\n",
        "plt.scatter(x_values, y_values)\n",
        "\n",
        "# Add a title and axis labels\n",
        "plt.title(\"Danceability vs. Energy\")\n",
        "plt.xlabel(\"Danceability\")\n",
        "plt.ylabel(\"Energy\")\n",
        "\n",
        "# Show the plot\n",
        "plt.\n"
      ],
      "metadata": {
        "id": "aBWGV33cNgBX"
      },
      "execution_count": 4,
      "outputs": []
    },
    {
      "cell_type": "code",
      "source": [],
      "metadata": {
        "id": "8_hUwzl9N_Cm"
      },
      "execution_count": null,
      "outputs": []
    }
  ]
}